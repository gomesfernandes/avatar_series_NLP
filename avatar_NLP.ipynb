{
 "cells": [
  {
   "cell_type": "markdown",
   "metadata": {},
   "source": [
    "This notebook analyses all transcipts downloaded via the scrape_episode_urls.py tool."
   ]
  },
  {
   "cell_type": "code",
   "execution_count": 1,
   "metadata": {},
   "outputs": [],
   "source": [
    "#all necessary imports\n",
    "import glob\n",
    "import spacy\n",
    "import numpy as np\n",
    "import pandas as pd\n",
    "import seaborn as sns\n",
    "import matplotlib.pyplot as plt\n",
    "%matplotlib inline"
   ]
  },
  {
   "cell_type": "code",
   "execution_count": 47,
   "metadata": {},
   "outputs": [],
   "source": [
    "files = glob.glob('raw_data/*.csv')"
   ]
  },
  {
   "cell_type": "code",
   "execution_count": 48,
   "metadata": {},
   "outputs": [],
   "source": [
    "import re\n",
    "def getEpisodeNumber(item):\n",
    "    m = re.search(\"(\\d*)\\.csv\",item)\n",
    "    return int(m.string[m.start(1):m.end(1)])"
   ]
  },
  {
   "cell_type": "code",
   "execution_count": 50,
   "metadata": {},
   "outputs": [],
   "source": [
    "files.sort(key=getEpisodeNumber)"
   ]
  },
  {
   "cell_type": "code",
   "execution_count": 52,
   "metadata": {},
   "outputs": [],
   "source": [
    "df_list = []\n",
    "episode_number = 0\n",
    "for f in files:\n",
    "    df = pd.read_csv(f, sep=\",\", header=None, names=[\"Character\", \"Utterance\"])\n",
    "    episode_number += 1\n",
    "    df[\"Episode\"] = episode_number\n",
    "    df_list.append(df)\n",
    "    \n",
    "transcripts = pd.concat(df_list, axis=0, ignore_index=True)"
   ]
  },
  {
   "cell_type": "markdown",
   "metadata": {},
   "source": [
    "Analyse the number of **lines** per character"
   ]
  },
  {
   "cell_type": "code",
   "execution_count": 55,
   "metadata": {},
   "outputs": [],
   "source": [
    "number_of_utterances_per_person = transcripts.groupby(\"Character\").count()"
   ]
  },
  {
   "cell_type": "code",
   "execution_count": 56,
   "metadata": {},
   "outputs": [],
   "source": [
    "top_15_characters_lines = number_of_utterances_per_person.sort_values(by=\"Utterance\", ascending=False).head(15).reset_index()"
   ]
  },
  {
   "cell_type": "code",
   "execution_count": 57,
   "metadata": {},
   "outputs": [
    {
     "data": {
      "text/plain": [
       "<matplotlib.axes._subplots.AxesSubplot at 0x15bce2828>"
      ]
     },
     "execution_count": 57,
     "metadata": {},
     "output_type": "execute_result"
    },
    {
     "data": {
      "image/png": "[encoded data removed]",
      "text/plain": [
       "<Figure size 1440x288 with 1 Axes>"
      ]
     },
     "metadata": {
      "needs_background": "light"
     },
     "output_type": "display_data"
    }
   ],
   "source": [
    "plt.figure(figsize=(20,4))\n",
    "sns.barplot(x=\"Character\", y=\"Utterance\", data=top_15_characters_lines)"
   ]
  },
  {
   "cell_type": "markdown",
   "metadata": {},
   "source": [
    "Analyse the number of **words** spoken per character"
   ]
  },
  {
   "cell_type": "code",
   "execution_count": 60,
   "metadata": {},
   "outputs": [],
   "source": [
    "word_count = transcripts[\"Utterance\"].apply(lambda x: len(x.split()))\n",
    "transcripts_with_word_count = pd.concat([transcripts, word_count], axis=1)\n",
    "transcripts_with_word_count.columns = [\"Character\", \"Utterance\", \"Episode\", \"Wordcount\"]"
   ]
  },
  {
   "cell_type": "code",
   "execution_count": 61,
   "metadata": {},
   "outputs": [
    {
     "data": {
      "text/html": [
       "<div>\n",
       "<style scoped>\n",
       "    .dataframe tbody tr th:only-of-type {\n",
       "        vertical-align: middle;\n",
       "    }\n",
       "\n",
       "    .dataframe tbody tr th {\n",
       "        vertical-align: top;\n",
       "    }\n",
       "\n",
       "    .dataframe thead th {\n",
       "        text-align: right;\n",
       "    }\n",
       "</style>\n",
       "<table border=\"1\" class=\"dataframe\">\n",
       "  <thead>\n",
       "    <tr style=\"text-align: right;\">\n",
       "      <th></th>\n",
       "      <th>Character</th>\n",
       "      <th>Utterance</th>\n",
       "      <th>Episode</th>\n",
       "      <th>Wordcount</th>\n",
       "    </tr>\n",
       "  </thead>\n",
       "  <tbody>\n",
       "    <tr>\n",
       "      <th>0</th>\n",
       "      <td>Kya</td>\n",
       "      <td>Water, earth, fire, air. My grandmother used t...</td>\n",
       "      <td>1</td>\n",
       "      <td>144</td>\n",
       "    </tr>\n",
       "    <tr>\n",
       "      <th>1</th>\n",
       "      <td>Aang</td>\n",
       "      <td>Wahoo! Hang on, Momo.</td>\n",
       "      <td>1</td>\n",
       "      <td>4</td>\n",
       "    </tr>\n",
       "    <tr>\n",
       "      <th>2</th>\n",
       "      <td>Sokka</td>\n",
       "      <td>You idiot! We're about to die!</td>\n",
       "      <td>1</td>\n",
       "      <td>6</td>\n",
       "    </tr>\n",
       "    <tr>\n",
       "      <th>3</th>\n",
       "      <td>Kya</td>\n",
       "      <td>Firebolt! Aang, focus!</td>\n",
       "      <td>1</td>\n",
       "      <td>3</td>\n",
       "    </tr>\n",
       "    <tr>\n",
       "      <th>4</th>\n",
       "      <td>Zuko</td>\n",
       "      <td>Again!</td>\n",
       "      <td>1</td>\n",
       "      <td>1</td>\n",
       "    </tr>\n",
       "  </tbody>\n",
       "</table>\n",
       "</div>"
      ],
      "text/plain": [
       "  Character                                          Utterance  Episode  \\\n",
       "0       Kya  Water, earth, fire, air. My grandmother used t...        1   \n",
       "1      Aang                              Wahoo! Hang on, Momo.        1   \n",
       "2     Sokka                     You idiot! We're about to die!        1   \n",
       "3       Kya                             Firebolt! Aang, focus!        1   \n",
       "4      Zuko                                             Again!        1   \n",
       "\n",
       "   Wordcount  \n",
       "0        144  \n",
       "1          4  \n",
       "2          6  \n",
       "3          3  \n",
       "4          1  "
      ]
     },
     "execution_count": 61,
     "metadata": {},
     "output_type": "execute_result"
    }
   ],
   "source": [
    "transcripts_with_word_count.head()"
   ]
  },
  {
   "cell_type": "code",
   "execution_count": 62,
   "metadata": {
    "scrolled": true
   },
   "outputs": [],
   "source": [
    "number_of_words_per_character = transcripts_with_word_count[[\"Character\", \"Wordcount\"]].groupby(\"Character\").sum()"
   ]
  },
  {
   "cell_type": "code",
   "execution_count": 63,
   "metadata": {},
   "outputs": [],
   "source": [
    "top_15_characters_words = number_of_words_per_character.sort_values(by=\"Wordcount\", ascending=False).head(15).reset_index()"
   ]
  },
  {
   "cell_type": "code",
   "execution_count": 64,
   "metadata": {},
   "outputs": [
    {
     "data": {
      "text/plain": [
       "<matplotlib.axes._subplots.AxesSubplot at 0x15d31f240>"
      ]
     },
     "execution_count": 64,
     "metadata": {},
     "output_type": "execute_result"
    },
    {
     "data": {
      "image/png": "[encoded data removed]",
      "text/plain": [
       "<Figure size 1440x288 with 1 Axes>"
      ]
     },
     "metadata": {
      "needs_background": "light"
     },
     "output_type": "display_data"
    }
   ],
   "source": [
    "plt.figure(figsize=(20,4))\n",
    "sns.barplot(x=\"Character\", y=\"Wordcount\", data=top_15_characters_words)"
   ]
  },
  {
   "cell_type": "markdown",
   "metadata": {},
   "source": [
    "Load spacy's medium-sized English language model"
   ]
  },
  {
   "cell_type": "code",
   "execution_count": 65,
   "metadata": {},
   "outputs": [],
   "source": [
    "nlp = spacy.load(\"en_core_web_md\")"
   ]
  },
  {
   "cell_type": "code",
   "execution_count": 105,
   "metadata": {},
   "outputs": [],
   "source": [
    "grouped_episodes = transcripts.groupby(\"Episode\")\n",
    "utterances_per_episode = []\n",
    "for name, group in grouped_episodes:\n",
    "    utterances_per_episode.append(\"\\n\".join(group[\"Utterance\"].tolist()))"
   ]
  },
  {
   "cell_type": "code",
   "execution_count": 106,
   "metadata": {},
   "outputs": [],
   "source": [
    "from collections import defaultdict\n",
    "verb_count = defaultdict(int)\n",
    "adj_count = defaultdict(int)\n",
    "noun_count = defaultdict(int)\n",
    "\n",
    "for episode in utterances_per_episode:\n",
    "    doc = nlp(episode)\n",
    "    verb_count = defaultdict(int)\n",
    "    noun_count = defaultdict(int)\n",
    "    for token in doc:\n",
    "        # ignore stop words\n",
    "        if token.is_stop:\n",
    "            continue\n",
    "        if token.pos_ == 'VERB':\n",
    "            verb_count[token.lemma_] += 1\n",
    "        if token.pos_ == 'ADJ':\n",
    "            adj_count[token.lemma_] += 1\n",
    "        if token.pos_ == 'NOUN':\n",
    "            noun_count[token.lemma_] += 1"
   ]
  },
  {
   "cell_type": "code",
   "execution_count": 107,
   "metadata": {},
   "outputs": [],
   "source": [
    "top_10_verbs = sorted(verb_count.items(), key=lambda kv: kv[1], reverse=True)[:10]\n",
    "top_10_adjectives = sorted(adj_count.items(), key=lambda kv: kv[1], reverse=True)[:10]\n",
    "top_10_nouns = sorted(noun_count.items(), key=lambda kv: kv[1], reverse=True)[:10]"
   ]
  },
  {
   "cell_type": "code",
   "execution_count": 108,
   "metadata": {},
   "outputs": [
    {
     "data": {
      "text/plain": [
       "<BarContainer object of 10 artists>"
      ]
     },
     "execution_count": 108,
     "metadata": {},
     "output_type": "execute_result"
    },
    {
     "data": {
      "image/png": "[encoded data removed]",
      "text/plain": [
       "<Figure size 1872x432 with 3 Axes>"
      ]
     },
     "metadata": {
      "needs_background": "light"
     },
     "output_type": "display_data"
    }
   ],
   "source": [
    "fig, axs = plt.subplots(1, 3, figsize=(26, 6))\n",
    "axs[0].bar([x[0] for x in top_10_verbs], [x[1] for x in top_10_verbs])\n",
    "axs[1].bar([x[0] for x in top_10_adjectives], [x[1] for x in top_10_adjectives])\n",
    "axs[2].bar([x[0] for x in top_10_nouns], [x[1] for x in top_10_nouns])"
   ]
  },
  {
   "cell_type": "code",
   "execution_count": null,
   "metadata": {},
   "outputs": [],
   "source": []
  }
 ],
 "metadata": {
  "kernelspec": {
   "display_name": "Python 3",
   "language": "python",
   "name": "python3"
  },
  "language_info": {
   "codemirror_mode": {
    "name": "ipython",
    "version": 3
   },
   "file_extension": ".py",
   "mimetype": "text/x-python",
   "name": "python",
   "nbconvert_exporter": "python",
   "pygments_lexer": "ipython3",
   "version": "3.6.8"
  }
 },
 "nbformat": 4,
 "nbformat_minor": 4
}
